{
 "cells": [
  {
   "cell_type": "code",
   "execution_count": 2,
   "metadata": {},
   "outputs": [],
   "source": [
    "import numpy as np\n",
    "import pandas as pd\n",
    "import plotly.plotly as py\n",
    "import plotly.graph_objs as go\n",
    "import cufflinks as cf\n",
    "import os"
   ]
  },
  {
   "cell_type": "code",
   "execution_count": 3,
   "metadata": {},
   "outputs": [
    {
     "data": {
      "text/plain": [
       "['well data readme.txt',\n",
       " 'Well_58-32_processed_pason_log.csv',\n",
       " 'well_based_temperature.csv',\n",
       " 'well_lithology_from_earth_model.csv',\n",
       " 'well_location_from_earth_model.csv',\n",
       " 'well_survey_from_earth_model.csv']"
      ]
     },
     "execution_count": 3,
     "metadata": {},
     "output_type": "execute_result"
    }
   ],
   "source": [
    "os.listdir(os.getcwd() + '/well_data')"
   ]
  },
  {
   "cell_type": "code",
   "execution_count": 4,
   "metadata": {},
   "outputs": [],
   "source": [
    "lith_df = pd.read_csv(os.getcwd() + '/well_data/well_lithology_from_earth_model.csv')\n",
    "loc_df = pd.read_csv(os.getcwd() + '/well_data/well_location_from_earth_model.csv')\n",
    "survey_df = pd.read_csv(os.getcwd() + '/well_data/well_survey_from_earth_model.csv')\n",
    "temp_df = pd.read_csv(os.getcwd() + '/well_data/well_based_temperature.csv')\n",
    "drill_df = pd.read_csv(os.getcwd() + '/well_data/Well_58-32_processed_pason_log.csv')"
   ]
  },
  {
   "cell_type": "code",
   "execution_count": 25,
   "metadata": {},
   "outputs": [],
   "source": [
    "def func(x):\n",
    "    if x > 0 and x <= 1007:\n",
    "        return 'Basin Fill'\n",
    "    else:\n",
    "        return 'Granitiod'\n",
    "\n",
    "drill_df['Lithology'] = drill_df['Depth(m)'].apply(lambda x: func(x))"
   ]
  },
  {
   "cell_type": "code",
   "execution_count": 41,
   "metadata": {},
   "outputs": [
    {
     "data": {
      "text/html": [
       "<iframe id=\"igraph\" scrolling=\"no\" style=\"border:none;\" seamless=\"seamless\" src=\"https://plot.ly/~benvacek/74.embed\" height=\"525px\" width=\"100%\"></iframe>"
      ],
      "text/plain": [
       "<plotly.tools.PlotlyDisplay object>"
      ]
     },
     "execution_count": 41,
     "metadata": {},
     "output_type": "execute_result"
    }
   ],
   "source": [
    "trace0 = go.Scatter(x = drill_df['Depth(m)'],\n",
    "                    y = drill_df['Temp Out( degC)'],\n",
    "                    name = 'Temp Out')\n",
    "\n",
    "trace1 = go.Scatter(x = drill_df['Depth(m)'],\n",
    "                    y = drill_df['Temp In(degC)'],\n",
    "                    name = 'Temp In')\n",
    "\n",
    "trace2 = go.Scatter(x = drill_df[drill_df['ROP(1 m)'] < 400]['Depth(m)'],\n",
    "                    y = drill_df[drill_df['ROP(1 m)'] < 400]['ROP(1 m)'],\n",
    "                    name = 'ROP')\n",
    "\n",
    "layout = {\n",
    "    'title': 'Drill Temperature (C) vs. Depth (m)',\n",
    "    'annotations': [\n",
    "        {\n",
    "            'x': 500,\n",
    "            'y': 40,\n",
    "            'xref': 'x',\n",
    "            'yref': 'y',\n",
    "            'text': 'Basin Fill',\n",
    "            'font': {'size': 15},\n",
    "            'showarrow': False\n",
    "        },\n",
    "        {\n",
    "            'x': 1550,\n",
    "            'y': 58,\n",
    "            'xref': 'x',\n",
    "            'yref': 'y',\n",
    "            'text': 'Granitoid',\n",
    "            'font': {'size': 15},\n",
    "            'showarrow': False\n",
    "        }\n",
    "    ],\n",
    "    'shapes': [\n",
    "        {\n",
    "            'type': 'rect',\n",
    "            'xref': 'x',\n",
    "            'yref': 'y',\n",
    "            'x0': 0,\n",
    "            'y0': 30,\n",
    "            'x1': 1007,\n",
    "            'y1': 65,\n",
    "            'fillcolor': '#99e6ff',\n",
    "            'opacity': 0.2,\n",
    "            'line': {\n",
    "                'width': 0,\n",
    "            }\n",
    "        },\n",
    "        {\n",
    "            'type': 'rect',\n",
    "            'xref': 'x',\n",
    "            'yref': 'y',\n",
    "            'x0': 1007,\n",
    "            'y0': 30,\n",
    "            'x1': 2296,\n",
    "            'y1': 65,\n",
    "            'fillcolor': '#99ffcc',\n",
    "            'opacity': 0.2,\n",
    "            'line': {\n",
    "                'width': 0,\n",
    "            }\n",
    "        }\n",
    "    ]\n",
    "}\n",
    "\n",
    "py.iplot({'data': [trace0,trace1], 'layout': layout}, filename = 'geo')"
   ]
  },
  {
   "cell_type": "code",
   "execution_count": 42,
   "metadata": {},
   "outputs": [
    {
     "data": {
      "text/html": [
       "<iframe id=\"igraph\" scrolling=\"no\" style=\"border:none;\" seamless=\"seamless\" src=\"https://plot.ly/~benvacek/76.embed\" height=\"525px\" width=\"100%\"></iframe>"
      ],
      "text/plain": [
       "<plotly.tools.PlotlyDisplay object>"
      ]
     },
     "execution_count": 42,
     "metadata": {},
     "output_type": "execute_result"
    }
   ],
   "source": [
    "layout['title'] = 'Drill Speed vs. Depth (m)'\n",
    "py.iplot({'data':[trace2],'layout':layout}, filename = 'geo1')"
   ]
  },
  {
   "cell_type": "code",
   "execution_count": 38,
   "metadata": {},
   "outputs": [
    {
     "data": {
      "text/plain": [
       "Basin Fill        74\n",
       "Granitiod         33\n",
       "Lava-Tuffs         1\n",
       "Volcaniclastic     1\n",
       "Name: Lithology, dtype: int64"
      ]
     },
     "execution_count": 38,
     "metadata": {},
     "output_type": "execute_result"
    }
   ],
   "source": [
    "lith_df['Lithology'].value_counts()"
   ]
  }
 ],
 "metadata": {
  "kernelspec": {
   "display_name": "Python 3",
   "language": "python",
   "name": "python3"
  },
  "language_info": {
   "codemirror_mode": {
    "name": "ipython",
    "version": 3
   },
   "file_extension": ".py",
   "mimetype": "text/x-python",
   "name": "python",
   "nbconvert_exporter": "python",
   "pygments_lexer": "ipython3",
   "version": "3.6.1"
  }
 },
 "nbformat": 4,
 "nbformat_minor": 2
}
